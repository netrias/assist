{
 "cells": [
  {
   "cell_type": "code",
   "execution_count": 153,
   "id": "b06197a7-fa12-410c-a3c6-453146a63035",
   "metadata": {},
   "outputs": [
    {
     "name": "stdout",
     "output_type": "stream",
     "text": [
      "The autoreload extension is already loaded. To reload it, use:\n",
      "  %reload_ext autoreload\n"
     ]
    }
   ],
   "source": [
    "import pandas as pd\n",
    "import seaborn as sns\n",
    "import numpy as np\n",
    "import os\n",
    "from parsers.phenx_toolkit import *\n",
    "from matplotlib import pyplot as plt\n",
    "%matplotlib inline\n",
    "%load_ext autoreload\n",
    "%autoreload 2"
   ]
  },
  {
   "cell_type": "code",
   "execution_count": 154,
   "id": "8b6d7306-caff-4444-ba7c-1bcfc0a3cae6",
   "metadata": {},
   "outputs": [],
   "source": [
    "path = '/Volumes/GoogleDrive/Shared drives/NIAAA_ASSIST/Data/PH2'\n",
    "uta = 'UTA_terms.xlsx'\n",
    "brain1 = 'AUD_AUDIT_report_for_researcher.xlsx'\n",
    "brain2 = 'AUD_report_for_researcher.xlsx'\n",
    "phenx_dir = 'Phenx_Terms'"
   ]
  },
  {
   "cell_type": "markdown",
   "id": "245b070e-6e93-4f8e-b0ba-a159e01adb4f",
   "metadata": {},
   "source": [
    "1. Look through Laura's injects and build draft scope of the terms.\n",
    "2. Look up the ontologies listed from NIH (like PhenX) and pull the terms. \n",
    "3. Compare the list of terms from Laura to the PhenX terms.\n",
    "4. We are going to take a bottom-up approach to the ontology. See how clusters of PhenX terms line up in their hierarchy. Same goes for Laura's terms."
   ]
  },
  {
   "cell_type": "code",
   "execution_count": 163,
   "id": "543264ce-eb54-4158-9300-d0f07e94fc90",
   "metadata": {},
   "outputs": [
    {
     "name": "stdout",
     "output_type": "stream",
     "text": [
      "'VARNAME'\n",
      "'VARNAME'\n",
      "'VARNAME'\n",
      "'VARNAME'\n",
      "'VARNAME'\n",
      "'VARNAME'\n",
      "'VARNAME'\n",
      "'VARNAME'\n",
      "'VARNAME'\n",
      "'VARNAME'\n",
      "'VARNAME'\n",
      "'VARNAME'\n",
      "'VARNAME'\n",
      "'VARNAME'\n",
      "'VARNAME'\n",
      "'VARNAME'\n",
      "'VARNAME'\n",
      "'VARNAME'\n",
      "'VARNAME'\n",
      "'VARNAME'\n",
      "'VARNAME'\n",
      "'VARNAME'\n",
      "'VARNAME'\n",
      "'VARNAME'\n",
      "'VARNAME'\n",
      "'VARNAME'\n",
      "'VARNAME'\n",
      "'VARNAME'\n",
      "'VARNAME'\n",
      "'VARNAME'\n",
      "'VARNAME'\n",
      "'VARNAME'\n",
      "'VARNAME'\n",
      "'VARNAME'\n",
      "'VARNAME'\n",
      "'VARNAME'\n",
      "'VARNAME'\n",
      "'VARNAME'\n",
      "'VARNAME'\n",
      "'VARNAME'\n",
      "'VARNAME'\n",
      "'VARNAME'\n",
      "'VARNAME'\n",
      "'VARNAME'\n",
      "'VARNAME'\n",
      "'VARNAME'\n",
      "'VARNAME'\n",
      "'VARNAME'\n",
      "'VARNAME'\n",
      "'VARNAME'\n"
     ]
    }
   ],
   "source": [
    "terms = parse_files(os.path.join(path,phenx_dir))\n",
    "phenx_terms = get_all_term_names(terms)"
   ]
  },
  {
   "cell_type": "code",
   "execution_count": 164,
   "id": "4a5b67c4-1443-4044-b0ba-c6d5fbbab70f",
   "metadata": {},
   "outputs": [
    {
     "data": {
      "text/plain": [
       "29254"
      ]
     },
     "execution_count": 164,
     "metadata": {},
     "output_type": "execute_result"
    }
   ],
   "source": [
    "len(terms)"
   ]
  },
  {
   "cell_type": "code",
   "execution_count": 165,
   "id": "4fbdf1b6-54b4-4cfa-9e88-cac8c71a6128",
   "metadata": {},
   "outputs": [],
   "source": [
    "from sentence_transformers import SentenceTransformer"
   ]
  },
  {
   "cell_type": "code",
   "execution_count": 166,
   "id": "2e32f2d7-c252-4dac-9e0d-feaaaa1602a0",
   "metadata": {},
   "outputs": [],
   "source": [
    "model = SentenceTransformer('sentence-transformers/all-MiniLM-L6-v2')"
   ]
  },
  {
   "cell_type": "code",
   "execution_count": 167,
   "id": "3312a767-29e5-47ec-9e4d-ada2e51ee515",
   "metadata": {},
   "outputs": [],
   "source": [
    "phenx_embeddings = model.encode(phenx_terms)"
   ]
  },
  {
   "cell_type": "code",
   "execution_count": 168,
   "id": "a5f04e10-0e56-4893-8b21-5b4f82ab667b",
   "metadata": {},
   "outputs": [
    {
     "data": {
      "text/plain": [
       "(29254, 384)"
      ]
     },
     "execution_count": 168,
     "metadata": {},
     "output_type": "execute_result"
    }
   ],
   "source": [
    "phenx_embeddings.shape"
   ]
  },
  {
   "cell_type": "code",
   "execution_count": 169,
   "id": "a3ac89c7-1aab-4251-9a83-cb2318044c5f",
   "metadata": {},
   "outputs": [],
   "source": [
    "brain1_df = pd.read_excel(os.path.join(path,brain1))\n",
    "brain2_df = pd.read_excel(os.path.join(path,brain2))\n",
    "brain=pd.concat([brain1_df,brain2_df],ignore_index=True)"
   ]
  },
  {
   "cell_type": "code",
   "execution_count": 170,
   "id": "63deac22-e5de-48d3-8b50-5a191d98d140",
   "metadata": {},
   "outputs": [],
   "source": [
    "brain['Term'] = brain['Term'].str.replace('_',' ')"
   ]
  },
  {
   "cell_type": "code",
   "execution_count": 171,
   "id": "64312cb5-af50-4f00-8eb4-617fac535696",
   "metadata": {},
   "outputs": [],
   "source": [
    "brain_embeddings = model.encode(brain['Term'])"
   ]
  },
  {
   "cell_type": "code",
   "execution_count": 172,
   "id": "d918da52-5af2-4fa7-a700-79590bddc70c",
   "metadata": {},
   "outputs": [
    {
     "data": {
      "text/plain": [
       "(78, 384)"
      ]
     },
     "execution_count": 172,
     "metadata": {},
     "output_type": "execute_result"
    }
   ],
   "source": [
    "brain_embeddings.shape"
   ]
  },
  {
   "cell_type": "code",
   "execution_count": 173,
   "id": "4fa432a5-5297-4d4e-90bb-3fc48716ca44",
   "metadata": {},
   "outputs": [],
   "source": [
    "from sklearn.metrics import pairwise_distances\n",
    "dist_brain = np.abs(pairwise_distances(X=brain_embeddings,Y=phenx_embeddings,metric='cosine'))"
   ]
  },
  {
   "cell_type": "code",
   "execution_count": 174,
   "id": "bbe2c4ea-4ca0-47f6-a097-9656e75e7648",
   "metadata": {},
   "outputs": [
    {
     "data": {
      "text/plain": [
       "(452, 20870)"
      ]
     },
     "execution_count": 174,
     "metadata": {},
     "output_type": "execute_result"
    }
   ],
   "source": [
    "dist.shape"
   ]
  },
  {
   "cell_type": "code",
   "execution_count": 176,
   "id": "f5de239b-1484-4d20-a152-bcf9c42519ca",
   "metadata": {},
   "outputs": [],
   "source": [
    "for j in range(10):\n",
    "    brain['Phenx_'+str(j)]=[phenx_terms[i] for i in np.argsort(dist_brain,axis=1)[:,j]]"
   ]
  },
  {
   "cell_type": "code",
   "execution_count": 177,
   "id": "f4187c12-85d5-43e3-b7bb-e741f955730b",
   "metadata": {},
   "outputs": [],
   "source": [
    "brain.to_csv(os.path.join(path,'all-MiniLM-L6-v2_brain_phenx.csv'))"
   ]
  },
  {
   "cell_type": "code",
   "execution_count": 178,
   "id": "ab1c7d62-2cec-4c84-874f-5de154ec57f4",
   "metadata": {},
   "outputs": [],
   "source": [
    "uta_df = pd.read_excel(os.path.join(path,uta))\n"
   ]
  },
  {
   "cell_type": "code",
   "execution_count": 179,
   "id": "80a5aa25-d61b-4e58-b46f-a0eb12e2d594",
   "metadata": {},
   "outputs": [],
   "source": [
    "uta_df.rename({uta_df.columns[0]:'Term'},inplace=True,axis=1)"
   ]
  },
  {
   "cell_type": "code",
   "execution_count": 180,
   "id": "77fa02a2-cf1b-49b9-8217-ac0445146792",
   "metadata": {},
   "outputs": [],
   "source": [
    "uta_embeddings = model.encode(uta_df['Term'])"
   ]
  },
  {
   "cell_type": "code",
   "execution_count": 181,
   "id": "b3038c52-08c7-4756-8bd3-8e9f9d2eec05",
   "metadata": {},
   "outputs": [],
   "source": [
    "dist_uta = np.abs(pairwise_distances(X=uta_embeddings,Y=phenx_embeddings,metric='cosine'))"
   ]
  },
  {
   "cell_type": "code",
   "execution_count": 182,
   "id": "a6e12b07-fc35-4eb5-ae0b-d0a08dcdb4d7",
   "metadata": {},
   "outputs": [],
   "source": [
    "for j in range(10):\n",
    "    uta_df['Phenx_'+str(j)]=[phenx_terms[i] for i in np.argsort(dist_uta,axis=1)[:,j]]"
   ]
  },
  {
   "cell_type": "code",
   "execution_count": 183,
   "id": "490387f1-400b-4492-8c7e-088ee29d2bf8",
   "metadata": {},
   "outputs": [],
   "source": [
    "uta_df.to_csv(os.path.join(path,'all-MiniLM-L6-v2_uta_phenx.csv'))"
   ]
  },
  {
   "cell_type": "code",
   "execution_count": 196,
   "id": "bf485a6a-74fb-4a69-a4dd-aa2979445b3b",
   "metadata": {},
   "outputs": [
    {
     "data": {
      "text/plain": [
       "<AxesSubplot:ylabel='Count'>"
      ]
     },
     "execution_count": 196,
     "metadata": {},
     "output_type": "execute_result"
    },
    {
     "data": {
      "image/png": "[encoded data removed]",
      "text/plain": [
       "<Figure size 640x480 with 1 Axes>"
      ]
     },
     "metadata": {},
     "output_type": "display_data"
    }
   ],
   "source": [
    "sns.histplot(dist_uta.flatten(),log_scale=(False,10))"
   ]
  },
  {
   "cell_type": "code",
   "execution_count": 195,
   "id": "fad8fbe8-f8db-4a96-81d7-0d68c68fbc19",
   "metadata": {},
   "outputs": [
    {
     "data": {
      "text/plain": [
       "<AxesSubplot:ylabel='Count'>"
      ]
     },
     "execution_count": 195,
     "metadata": {},
     "output_type": "execute_result"
    },
    {
     "data": {
      "image/png": "[encoded data removed]",
      "text/plain": [
       "<Figure size 640x480 with 1 Axes>"
      ]
     },
     "metadata": {},
     "output_type": "display_data"
    }
   ],
   "source": [
    "sns.histplot(dist_brain.flatten(),log_scale=(False,10))"
   ]
  },
  {
   "cell_type": "code",
   "execution_count": null,
   "id": "d06f5c73-015f-46e0-8f70-695fa116aacf",
   "metadata": {},
   "outputs": [],
   "source": []
  }
 ],
 "metadata": {
  "kernelspec": {
   "display_name": "Python 3",
   "language": "python",
   "name": "python3"
  },
  "language_info": {
   "codemirror_mode": {
    "name": "ipython",
    "version": 3
   },
   "file_extension": ".py",
   "mimetype": "text/x-python",
   "name": "python",
   "nbconvert_exporter": "python",
   "pygments_lexer": "ipython3",
   "version": "3.9.13"
  }
 },
 "nbformat": 4,
 "nbformat_minor": 5
}
